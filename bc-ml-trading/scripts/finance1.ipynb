{
 "cells": [
  {
   "cell_type": "code",
   "id": "initial_id",
   "metadata": {
    "collapsed": true,
    "ExecuteTime": {
     "end_time": "2025-04-23T15:07:04.213202Z",
     "start_time": "2025-04-23T15:07:04.207355Z"
    }
   },
   "source": [
    "from alpha_vantage.foreignexchange import ForeignExchange\n",
    "from dotenv import load_dotenv\n",
    "from alpha_vantage.timeseries import TimeSeries\n",
    "import os\n",
    "import json\n",
    "\n",
    "load_dotenv()\n",
    "\n",
    "def save_dataset(symbol):\n",
    "    #credentials = json.load(open('creds.json', 'r'))\n",
    "\n",
    "    api_key = os.getenv('API_KEY_ALPHA')\n",
    "    ts = TimeSeries(key=api_key, output_format='pandas')\n",
    "    cc = ForeignExchange(key=api_key)\n",
    "    # There is no metadata in this call\n",
    "    data, _ = cc.get_currency_exchange_rate(from_currency='BTC',to_currency='USD')\n",
    "    print(data)\n",
    "#    data, meta_data = ts.get_daily(symbol, outputsize='full')\n",
    "#    data.to_csv(f'./{symbol}_daily.csv')"
   ],
   "outputs": [],
   "execution_count": 15
  },
  {
   "metadata": {
    "ExecuteTime": {
     "end_time": "2025-04-23T15:07:05.889009Z",
     "start_time": "2025-04-23T15:07:05.439115Z"
    }
   },
   "cell_type": "code",
   "source": "save_dataset('test')",
   "id": "d4174361723c34b9",
   "outputs": [
    {
     "name": "stdout",
     "output_type": "stream",
     "text": [
      "{'1. From_Currency Code': 'BTC', '2. From_Currency Name': 'Bitcoin', '3. To_Currency Code': 'USD', '4. To_Currency Name': 'United States Dollar', '5. Exchange Rate': '92785.17000000', '6. Last Refreshed': '2025-04-23 15:07:03', '7. Time Zone': 'UTC', '8. Bid Price': '92784.35300000', '9. Ask Price': '92788.28200000'}\n"
     ]
    }
   ],
   "execution_count": 16
  },
  {
   "metadata": {
    "ExecuteTime": {
     "end_time": "2025-04-23T15:08:15.233431Z",
     "start_time": "2025-04-23T15:08:11.053842Z"
    }
   },
   "cell_type": "code",
   "source": [
    "import pandas_datareader.data as web\n",
    "from datetime import datetime\n",
    "start = '2014'              # accepts strings\n",
    "end = datetime(2017, 5, 24) # or datetime objects\n",
    "yahoo= web.DataReader('FB', 'yahoo', start=start, end=end)"
   ],
   "id": "c3ab6dc0401f41d4",
   "outputs": [
    {
     "ename": "AttributeError",
     "evalue": "'NoneType' object has no attribute 'group'",
     "output_type": "error",
     "traceback": [
      "\u001B[31m---------------------------------------------------------------------------\u001B[39m",
      "\u001B[31mAttributeError\u001B[39m                            Traceback (most recent call last)",
      "\u001B[36mCell\u001B[39m\u001B[36m \u001B[39m\u001B[32mIn[18]\u001B[39m\u001B[32m, line 5\u001B[39m\n\u001B[32m      3\u001B[39m start = \u001B[33m'\u001B[39m\u001B[33m2014\u001B[39m\u001B[33m'\u001B[39m              \u001B[38;5;66;03m# accepts strings\u001B[39;00m\n\u001B[32m      4\u001B[39m end = datetime(\u001B[32m2017\u001B[39m, \u001B[32m5\u001B[39m, \u001B[32m24\u001B[39m) \u001B[38;5;66;03m# or datetime objects\u001B[39;00m\n\u001B[32m----> \u001B[39m\u001B[32m5\u001B[39m yahoo= \u001B[43mweb\u001B[49m\u001B[43m.\u001B[49m\u001B[43mDataReader\u001B[49m\u001B[43m(\u001B[49m\u001B[33;43m'\u001B[39;49m\u001B[33;43mFB\u001B[39;49m\u001B[33;43m'\u001B[39;49m\u001B[43m,\u001B[49m\u001B[43m \u001B[49m\u001B[33;43m'\u001B[39;49m\u001B[33;43myahoo\u001B[39;49m\u001B[33;43m'\u001B[39;49m\u001B[43m,\u001B[49m\u001B[43m \u001B[49m\u001B[43mstart\u001B[49m\u001B[43m=\u001B[49m\u001B[43mstart\u001B[49m\u001B[43m,\u001B[49m\u001B[43m \u001B[49m\u001B[43mend\u001B[49m\u001B[43m=\u001B[49m\u001B[43mend\u001B[49m\u001B[43m)\u001B[49m\n",
      "\u001B[36mFile \u001B[39m\u001B[32m~/python-workspace/bc-ml-trading/.venv/lib/python3.13/site-packages/pandas/util/_decorators.py:213\u001B[39m, in \u001B[36mdeprecate_kwarg.<locals>._deprecate_kwarg.<locals>.wrapper\u001B[39m\u001B[34m(*args, **kwargs)\u001B[39m\n\u001B[32m    211\u001B[39m         \u001B[38;5;28;01mraise\u001B[39;00m \u001B[38;5;167;01mTypeError\u001B[39;00m(msg)\n\u001B[32m    212\u001B[39m     kwargs[new_arg_name] = new_arg_value\n\u001B[32m--> \u001B[39m\u001B[32m213\u001B[39m \u001B[38;5;28;01mreturn\u001B[39;00m \u001B[43mfunc\u001B[49m\u001B[43m(\u001B[49m\u001B[43m*\u001B[49m\u001B[43margs\u001B[49m\u001B[43m,\u001B[49m\u001B[43m \u001B[49m\u001B[43m*\u001B[49m\u001B[43m*\u001B[49m\u001B[43mkwargs\u001B[49m\u001B[43m)\u001B[49m\n",
      "\u001B[36mFile \u001B[39m\u001B[32m~/python-workspace/bc-ml-trading/.venv/lib/python3.13/site-packages/pandas_datareader/data.py:379\u001B[39m, in \u001B[36mDataReader\u001B[39m\u001B[34m(name, data_source, start, end, retry_count, pause, session, api_key)\u001B[39m\n\u001B[32m    367\u001B[39m     \u001B[38;5;28;01mraise\u001B[39;00m \u001B[38;5;167;01mNotImplementedError\u001B[39;00m(msg)\n\u001B[32m    369\u001B[39m \u001B[38;5;28;01mif\u001B[39;00m data_source == \u001B[33m\"\u001B[39m\u001B[33myahoo\u001B[39m\u001B[33m\"\u001B[39m:\n\u001B[32m    370\u001B[39m     \u001B[38;5;28;01mreturn\u001B[39;00m \u001B[43mYahooDailyReader\u001B[49m\u001B[43m(\u001B[49m\n\u001B[32m    371\u001B[39m \u001B[43m        \u001B[49m\u001B[43msymbols\u001B[49m\u001B[43m=\u001B[49m\u001B[43mname\u001B[49m\u001B[43m,\u001B[49m\n\u001B[32m    372\u001B[39m \u001B[43m        \u001B[49m\u001B[43mstart\u001B[49m\u001B[43m=\u001B[49m\u001B[43mstart\u001B[49m\u001B[43m,\u001B[49m\n\u001B[32m    373\u001B[39m \u001B[43m        \u001B[49m\u001B[43mend\u001B[49m\u001B[43m=\u001B[49m\u001B[43mend\u001B[49m\u001B[43m,\u001B[49m\n\u001B[32m    374\u001B[39m \u001B[43m        \u001B[49m\u001B[43madjust_price\u001B[49m\u001B[43m=\u001B[49m\u001B[38;5;28;43;01mFalse\u001B[39;49;00m\u001B[43m,\u001B[49m\n\u001B[32m    375\u001B[39m \u001B[43m        \u001B[49m\u001B[43mchunksize\u001B[49m\u001B[43m=\u001B[49m\u001B[32;43m25\u001B[39;49m\u001B[43m,\u001B[49m\n\u001B[32m    376\u001B[39m \u001B[43m        \u001B[49m\u001B[43mretry_count\u001B[49m\u001B[43m=\u001B[49m\u001B[43mretry_count\u001B[49m\u001B[43m,\u001B[49m\n\u001B[32m    377\u001B[39m \u001B[43m        \u001B[49m\u001B[43mpause\u001B[49m\u001B[43m=\u001B[49m\u001B[43mpause\u001B[49m\u001B[43m,\u001B[49m\n\u001B[32m    378\u001B[39m \u001B[43m        \u001B[49m\u001B[43msession\u001B[49m\u001B[43m=\u001B[49m\u001B[43msession\u001B[49m\u001B[43m,\u001B[49m\n\u001B[32m--> \u001B[39m\u001B[32m379\u001B[39m \u001B[43m    \u001B[49m\u001B[43m)\u001B[49m\u001B[43m.\u001B[49m\u001B[43mread\u001B[49m\u001B[43m(\u001B[49m\u001B[43m)\u001B[49m\n\u001B[32m    381\u001B[39m \u001B[38;5;28;01melif\u001B[39;00m data_source == \u001B[33m\"\u001B[39m\u001B[33miex\u001B[39m\u001B[33m\"\u001B[39m:\n\u001B[32m    382\u001B[39m     \u001B[38;5;28;01mreturn\u001B[39;00m IEXDailyReader(\n\u001B[32m    383\u001B[39m         symbols=name,\n\u001B[32m    384\u001B[39m         start=start,\n\u001B[32m   (...)\u001B[39m\u001B[32m    390\u001B[39m         session=session,\n\u001B[32m    391\u001B[39m     ).read()\n",
      "\u001B[36mFile \u001B[39m\u001B[32m~/python-workspace/bc-ml-trading/.venv/lib/python3.13/site-packages/pandas_datareader/base.py:253\u001B[39m, in \u001B[36m_DailyBaseReader.read\u001B[39m\u001B[34m(self)\u001B[39m\n\u001B[32m    251\u001B[39m \u001B[38;5;66;03m# If a single symbol, (e.g., 'GOOG')\u001B[39;00m\n\u001B[32m    252\u001B[39m \u001B[38;5;28;01mif\u001B[39;00m \u001B[38;5;28misinstance\u001B[39m(\u001B[38;5;28mself\u001B[39m.symbols, (string_types, \u001B[38;5;28mint\u001B[39m)):\n\u001B[32m--> \u001B[39m\u001B[32m253\u001B[39m     df = \u001B[38;5;28;43mself\u001B[39;49m\u001B[43m.\u001B[49m\u001B[43m_read_one_data\u001B[49m\u001B[43m(\u001B[49m\u001B[38;5;28;43mself\u001B[39;49m\u001B[43m.\u001B[49m\u001B[43murl\u001B[49m\u001B[43m,\u001B[49m\u001B[43m \u001B[49m\u001B[43mparams\u001B[49m\u001B[43m=\u001B[49m\u001B[38;5;28;43mself\u001B[39;49m\u001B[43m.\u001B[49m\u001B[43m_get_params\u001B[49m\u001B[43m(\u001B[49m\u001B[38;5;28;43mself\u001B[39;49m\u001B[43m.\u001B[49m\u001B[43msymbols\u001B[49m\u001B[43m)\u001B[49m\u001B[43m)\u001B[49m\n\u001B[32m    254\u001B[39m \u001B[38;5;66;03m# Or multiple symbols, (e.g., ['GOOG', 'AAPL', 'MSFT'])\u001B[39;00m\n\u001B[32m    255\u001B[39m \u001B[38;5;28;01melif\u001B[39;00m \u001B[38;5;28misinstance\u001B[39m(\u001B[38;5;28mself\u001B[39m.symbols, DataFrame):\n",
      "\u001B[36mFile \u001B[39m\u001B[32m~/python-workspace/bc-ml-trading/.venv/lib/python3.13/site-packages/pandas_datareader/yahoo/daily.py:152\u001B[39m, in \u001B[36mYahooDailyReader._read_one_data\u001B[39m\u001B[34m(self, url, params)\u001B[39m\n\u001B[32m    150\u001B[39m ptrn = \u001B[33mr\u001B[39m\u001B[33m\"\u001B[39m\u001B[33mroot\u001B[39m\u001B[33m\\\u001B[39m\u001B[33m.App\u001B[39m\u001B[33m\\\u001B[39m\u001B[33m.main = (.*?);\u001B[39m\u001B[33m\\\u001B[39m\u001B[33mn}\u001B[39m\u001B[33m\\\u001B[39m\u001B[33m(this\u001B[39m\u001B[33m\\\u001B[39m\u001B[33m)\u001B[39m\u001B[33m\\\u001B[39m\u001B[33m);\u001B[39m\u001B[33m\"\u001B[39m\n\u001B[32m    151\u001B[39m \u001B[38;5;28;01mtry\u001B[39;00m:\n\u001B[32m--> \u001B[39m\u001B[32m152\u001B[39m     j = json.loads(\u001B[43mre\u001B[49m\u001B[43m.\u001B[49m\u001B[43msearch\u001B[49m\u001B[43m(\u001B[49m\u001B[43mptrn\u001B[49m\u001B[43m,\u001B[49m\u001B[43m \u001B[49m\u001B[43mresp\u001B[49m\u001B[43m.\u001B[49m\u001B[43mtext\u001B[49m\u001B[43m,\u001B[49m\u001B[43m \u001B[49m\u001B[43mre\u001B[49m\u001B[43m.\u001B[49m\u001B[43mDOTALL\u001B[49m\u001B[43m)\u001B[49m\u001B[43m.\u001B[49m\u001B[43mgroup\u001B[49m(\u001B[32m1\u001B[39m))\n\u001B[32m    153\u001B[39m     data = j[\u001B[33m\"\u001B[39m\u001B[33mcontext\u001B[39m\u001B[33m\"\u001B[39m][\u001B[33m\"\u001B[39m\u001B[33mdispatcher\u001B[39m\u001B[33m\"\u001B[39m][\u001B[33m\"\u001B[39m\u001B[33mstores\u001B[39m\u001B[33m\"\u001B[39m][\u001B[33m\"\u001B[39m\u001B[33mHistoricalPriceStore\u001B[39m\u001B[33m\"\u001B[39m]\n\u001B[32m    154\u001B[39m \u001B[38;5;28;01mexcept\u001B[39;00m \u001B[38;5;167;01mKeyError\u001B[39;00m:\n",
      "\u001B[31mAttributeError\u001B[39m: 'NoneType' object has no attribute 'group'"
     ]
    }
   ],
   "execution_count": 18
  },
  {
   "metadata": {},
   "cell_type": "code",
   "outputs": [],
   "execution_count": null,
   "source": "",
   "id": "2cd911a950f4e20f"
  }
 ],
 "metadata": {
  "kernelspec": {
   "display_name": "Python 3",
   "language": "python",
   "name": "python3"
  },
  "language_info": {
   "codemirror_mode": {
    "name": "ipython",
    "version": 2
   },
   "file_extension": ".py",
   "mimetype": "text/x-python",
   "name": "python",
   "nbconvert_exporter": "python",
   "pygments_lexer": "ipython2",
   "version": "2.7.6"
  }
 },
 "nbformat": 4,
 "nbformat_minor": 5
}
